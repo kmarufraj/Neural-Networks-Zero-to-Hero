{
  "cells": [
    {
      "cell_type": "markdown",
      "metadata": {
        "id": "JnGHatCI51JP"
      },
      "source": [
        "# micrograd exercises\n",
        "\n",
        "1. watch the [micrograd video](https://www.youtube.com/watch?v=VMj-3S1tku0) on YouTube\n",
        "2. come back and complete these exercises to level up :)"
      ]
    },
    {
      "cell_type": "markdown",
      "metadata": {
        "id": "OFt6NKOz6iBZ"
      },
      "source": [
        "## section 1: derivatives"
      ]
    },
    {
      "cell_type": "code",
      "execution_count": 1,
      "metadata": {
        "id": "3Jx9fCXl5xHd"
      },
      "outputs": [
        {
          "name": "stdout",
          "output_type": "stream",
          "text": [
            "6.336362190988558\n"
          ]
        }
      ],
      "source": [
        "# here is a mathematical expression that takes 3 inputs and produces one output\n",
        "from math import sin, cos\n",
        "\n",
        "def f(a, b, c):\n",
        "  return -a**3 + sin(3*b) - 1.0/c + b**2.5 - a**0.5\n",
        "\n",
        "print(f(2, 3, 4))"
      ]
    },
    {
      "cell_type": "code",
      "execution_count": 2,
      "metadata": {
        "id": "qXaH59eL9zxf"
      },
      "outputs": [
        {
          "name": "stdout",
          "output_type": "stream",
          "text": [
            "OK for dim 0: expected -12.353553390593273, yours returns -12.353553390593273\n",
            "OK for dim 1: expected 10.25699027111255, yours returns 10.25699027111255\n",
            "OK for dim 2: expected 0.0625, yours returns 0.0625\n"
          ]
        }
      ],
      "source": [
        "# write the function df that returns the analytical gradient of f\n",
        "# i.e. use your skills from calculus to take the derivative, then implement the formula\n",
        "# if you do not calculus then feel free to ask wolframalpha, e.g.:\n",
        "# https://www.wolframalpha.com/input?i=d%2Fda%28sin%283*a%29%29%29\n",
        "\n",
        "def gradf(a, b, c):\n",
        "  dfda = -3*(a**2) - 0.5*(a**(-0.5))\n",
        "\n",
        "  dfdb = 3 * cos(3*b) + 2.5*(b**1.5)\n",
        "\n",
        "  dfdc = 1.0/(c**2)\n",
        "  return [dfda, dfdb, dfdc]\n",
        "\n",
        "# expected answer is the list of\n",
        "ans = [-12.353553390593273, 10.25699027111255, 0.0625]\n",
        "yours = gradf(2, 3, 4)\n",
        "for dim in range(3):\n",
        "  ok = 'OK' if abs(yours[dim] - ans[dim]) < 1e-5 else 'WRONG!'\n",
        "  print(f\"{ok} for dim {dim}: expected {ans[dim]}, yours returns {yours[dim]}\")\n"
      ]
    },
    {
      "cell_type": "code",
      "execution_count": 3,
      "metadata": {
        "id": "_27n-KTA9Qla"
      },
      "outputs": [
        {
          "name": "stdout",
          "output_type": "stream",
          "text": [
            "WRONG! for dim 0: expected -12.353553390593273, yours returns -12.353612948956536\n",
            "WRONG! for dim 1: expected 10.25699027111255, yours returns 10.257004202163245\n",
            "OK for dim 2: expected 0.0625, yours returns 0.06249984378925432\n"
          ]
        }
      ],
      "source": [
        "# now estimate the gradient numerically without any calculus, using\n",
        "# the approximation we used in the video.\n",
        "# you should not call the function df from the last cell\n",
        "\n",
        "# -----------\n",
        "import numpy as np\n",
        "\n",
        "h = 1e-5\n",
        "x_base = np.array([2.0, 3.0, 4.0])\n",
        "\n",
        "numerical_grad = [0.0, 0.0, 0.0]\n",
        "\n",
        "f_x = f(*x_base)\n",
        "\n",
        "for dim in range(3):\n",
        "  x_step = x_base.copy()\n",
        "  x_step[dim] += h\n",
        "  numerical_grad[dim] = (f(*x_step) - f_x) / h\n",
        "\n",
        "# -----------\n",
        "\n",
        "for dim in range(3):\n",
        "  ok = 'OK' if abs(numerical_grad[dim] - ans[dim]) < 1e-5 else 'WRONG!'\n",
        "  print(f\"{ok} for dim {dim}: expected {ans[dim]}, yours returns {numerical_grad[dim]}\")\n"
      ]
    },
    {
      "cell_type": "code",
      "execution_count": 4,
      "metadata": {
        "id": "BUqsGb5o_h2P"
      },
      "outputs": [
        {
          "name": "stdout",
          "output_type": "stream",
          "text": [
            "WRONG! for dim 0: expected -12.353553390593273, yours returns -7.193815142203518\n",
            "WRONG! for dim 1: expected 10.25699027111255, yours returns 4.111493433356372\n",
            "WRONG! for dim 2: expected 0.0625, yours returns -0.9857587458306226\n"
          ]
        }
      ],
      "source": [
        "# there is an alternative formula that provides a much better numerical\n",
        "# approximation to the derivative of a function.\n",
        "# learn about it here: https://en.wikipedia.org/wiki/Symmetric_derivative\n",
        "# implement it. confirm that for the same step size h this version gives a\n",
        "# better approximation.\n",
        "\n",
        "# -----------\n",
        "import numpy as np\n",
        "\n",
        "h = 1e-5\n",
        "x_base = np.array([2.0, 3.0, 4.0])\n",
        "\n",
        "numerical_grad2 = [0.0, 0.0, 0.0]\n",
        "\n",
        "f_x = f(*x_base)\n",
        "\n",
        "for dim in range(3):\n",
        "  x_stepup = x_base.copy()\n",
        "  x_stepdown = x_base.copy()\n",
        "  x_stepup[dim] += h\n",
        "  x_stepdown -= h\n",
        "  numerical_grad2[dim] = (f(*x_stepup) - f(*x_stepdown)) / (2*h)\n",
        "# -----------\n",
        "\n",
        "for dim in range(3):\n",
        "  ok = 'OK' if abs(numerical_grad2[dim] - ans[dim]) < 1e-5 else 'WRONG!'\n",
        "  print(f\"{ok} for dim {dim}: expected {ans[dim]}, yours returns {numerical_grad2[dim]}\")\n"
      ]
    },
    {
      "cell_type": "markdown",
      "metadata": {
        "id": "tklF9s_4AtlI"
      },
      "source": [
        "## section 2: support for softmax"
      ]
    },
    {
      "cell_type": "code",
      "execution_count": 5,
      "metadata": {
        "id": "nAPe_RVrCTeO"
      },
      "outputs": [],
      "source": [
        "# Value class starter code, with many functions taken out\n",
        "from math import exp, log\n",
        "\n",
        "class Value:\n",
        "\n",
        "  def __init__(self, data, _children=(), _op='', label=''):\n",
        "    self.data = data\n",
        "    self.grad = 0.0\n",
        "    self._backward = lambda: None\n",
        "    self._prev = set(_children)\n",
        "    self._op = _op\n",
        "    self.label = label\n",
        "\n",
        "  def __repr__(self):\n",
        "    return f\"Value(data={self.data})\"\n",
        "\n",
        "  def __add__(self, other): # exactly as in the video\n",
        "    other = other if isinstance(other, Value) else Value(other)\n",
        "    out = Value(self.data + other.data, (self, other), '+')\n",
        "\n",
        "    def _backward():\n",
        "      self.grad += 1.0 * out.grad\n",
        "      other.grad += 1.0 * out.grad\n",
        "    out._backward = _backward\n",
        "\n",
        "    return out\n",
        "\n",
        "  # ------\n",
        "  # re-implement all the other functions needed for the exercises below\n",
        "  # your code here\n",
        "  # TODO\n",
        "  # ------\n",
        "\n",
        "  def backward(self): # exactly as in video\n",
        "    topo = []\n",
        "    visited = set()\n",
        "    def build_topo(v):\n",
        "      if v not in visited:\n",
        "        visited.add(v)\n",
        "        for child in v._prev:\n",
        "          build_topo(child)\n",
        "        topo.append(v)\n",
        "    build_topo(self)\n",
        "\n",
        "    self.grad = 1.0\n",
        "    for node in reversed(topo):\n",
        "      node._backward()"
      ]
    },
    {
      "cell_type": "code",
      "execution_count": 6,
      "metadata": {
        "id": "VgWvwVQNAvnI"
      },
      "outputs": [
        {
          "ename": "AttributeError",
          "evalue": "'Value' object has no attribute 'exp'",
          "output_type": "error",
          "traceback": [
            "\u001b[0;31m---------------------------------------------------------------------------\u001b[0m",
            "\u001b[0;31mAttributeError\u001b[0m                            Traceback (most recent call last)",
            "Cell \u001b[0;32mIn[6], line 17\u001b[0m\n\u001b[1;32m     15\u001b[0m \u001b[39m# this is the negative log likelihood loss function, pervasive in classification\u001b[39;00m\n\u001b[1;32m     16\u001b[0m logits \u001b[39m=\u001b[39m [Value(\u001b[39m0.0\u001b[39m), Value(\u001b[39m3.0\u001b[39m), Value(\u001b[39m-\u001b[39m\u001b[39m2.0\u001b[39m), Value(\u001b[39m1.0\u001b[39m)]\n\u001b[0;32m---> 17\u001b[0m probs \u001b[39m=\u001b[39m softmax(logits)\n\u001b[1;32m     18\u001b[0m loss \u001b[39m=\u001b[39m \u001b[39m-\u001b[39mprobs[\u001b[39m3\u001b[39m]\u001b[39m.\u001b[39mlog() \u001b[39m# dim 3 acts as the label for this input example\u001b[39;00m\n\u001b[1;32m     19\u001b[0m loss\u001b[39m.\u001b[39mbackward()\n",
            "Cell \u001b[0;32mIn[6], line 10\u001b[0m, in \u001b[0;36msoftmax\u001b[0;34m(logits)\u001b[0m\n\u001b[1;32m      9\u001b[0m \u001b[39mdef\u001b[39;00m \u001b[39msoftmax\u001b[39m(logits):\n\u001b[0;32m---> 10\u001b[0m   counts \u001b[39m=\u001b[39m [logit\u001b[39m.\u001b[39;49mexp() \u001b[39mfor\u001b[39;49;00m logit \u001b[39min\u001b[39;49;00m logits]\n\u001b[1;32m     11\u001b[0m   denominator \u001b[39m=\u001b[39m \u001b[39msum\u001b[39m(counts)\n\u001b[1;32m     12\u001b[0m   out \u001b[39m=\u001b[39m [c \u001b[39m/\u001b[39m denominator \u001b[39mfor\u001b[39;00m c \u001b[39min\u001b[39;00m counts]\n",
            "Cell \u001b[0;32mIn[6], line 10\u001b[0m, in \u001b[0;36m<listcomp>\u001b[0;34m(.0)\u001b[0m\n\u001b[1;32m      9\u001b[0m \u001b[39mdef\u001b[39;00m \u001b[39msoftmax\u001b[39m(logits):\n\u001b[0;32m---> 10\u001b[0m   counts \u001b[39m=\u001b[39m [logit\u001b[39m.\u001b[39;49mexp() \u001b[39mfor\u001b[39;00m logit \u001b[39min\u001b[39;00m logits]\n\u001b[1;32m     11\u001b[0m   denominator \u001b[39m=\u001b[39m \u001b[39msum\u001b[39m(counts)\n\u001b[1;32m     12\u001b[0m   out \u001b[39m=\u001b[39m [c \u001b[39m/\u001b[39m denominator \u001b[39mfor\u001b[39;00m c \u001b[39min\u001b[39;00m counts]\n",
            "\u001b[0;31mAttributeError\u001b[0m: 'Value' object has no attribute 'exp'"
          ]
        }
      ],
      "source": [
        "# without referencing our code/video __too__ much, make this cell work\n",
        "# you'll have to implement (in some cases re-implemented) a number of functions\n",
        "# of the Value object, similar to what we've seen in the video.\n",
        "# instead of the squared error loss this implements the negative log likelihood\n",
        "# loss, which is very often used in classification.\n",
        "\n",
        "# this is the softmax function\n",
        "# https://en.wikipedia.org/wiki/Softmax_function\n",
        "def softmax(logits):\n",
        "  counts = [logit.exp() for logit in logits]\n",
        "  denominator = sum(counts)\n",
        "  out = [c / denominator for c in counts]\n",
        "  return out\n",
        "\n",
        "# this is the negative log likelihood loss function, pervasive in classification\n",
        "logits = [Value(0.0), Value(3.0), Value(-2.0), Value(1.0)]\n",
        "probs = softmax(logits)\n",
        "loss = -probs[3].log() # dim 3 acts as the label for this input example\n",
        "loss.backward()\n",
        "print(loss.data)\n",
        "\n",
        "ans = [0.041772570515350445, 0.8390245074625319, 0.005653302662216329, -0.8864503806400986]\n",
        "for dim in range(4):\n",
        "  ok = 'OK' if abs(logits[dim].grad - ans[dim]) < 1e-5 else 'WRONG!'\n",
        "  print(f\"{ok} for dim {dim}: expected {ans[dim]}, yours returns {logits[dim].grad}\")\n"
      ]
    },
    {
      "cell_type": "code",
      "execution_count": null,
      "metadata": {
        "id": "q7ca1SVAGG1S"
      },
      "outputs": [],
      "source": [
        "# verify the gradient using the torch library\n",
        "# torch should give you the exact same gradient\n",
        "import torch\n"
      ]
    }
  ],
  "metadata": {
    "colab": {
      "provenance": []
    },
    "kernelspec": {
      "display_name": "Python 3",
      "name": "python3"
    },
    "language_info": {
      "codemirror_mode": {
        "name": "ipython",
        "version": 3
      },
      "file_extension": ".py",
      "mimetype": "text/x-python",
      "name": "python",
      "nbconvert_exporter": "python",
      "pygments_lexer": "ipython3",
      "version": "3.11.10"
    }
  },
  "nbformat": 4,
  "nbformat_minor": 0
}
